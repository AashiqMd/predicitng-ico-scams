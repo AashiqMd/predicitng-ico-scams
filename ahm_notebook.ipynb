{
 "cells": [
  {
   "cell_type": "code",
   "execution_count": 8,
   "metadata": {},
   "outputs": [],
   "source": [
    "import pandas as pd\n",
    "import preprocess\n",
    "import os\n",
    "\n",
    "preprocess.convert_without_losing_NAs()\n",
    "howell_df = preprocess.preprocess_howell(log=False)\n",
    "sapkota_df = preprocess.preprocess_sapkota(log=False)\n",
    "matches_df = preprocess.merge(howell_df, sapkota_df, how=\"left\", log=False)"
   ]
  },
  {
   "cell_type": "code",
   "execution_count": 9,
   "metadata": {},
   "outputs": [
    {
     "name": "stdout",
     "output_type": "stream",
     "text": [
      "1520\n",
      "Index(['token_name', 'github_repositories_0719', 'github_indicator_0719',\n",
      "       'whitepaper', 'start_date_final', 'symbol', 'first_date_trading',\n",
      "       'website', 'linkedin_name', 'linkedin_url',\n",
      "       ...\n",
      "       'curr_accept_usd', 'curr_accept_eur', 'curr_accept_btc',\n",
      "       'curr_accept_eth', 'curr_accept_xrp', 'curr_accept_ltc',\n",
      "       'curr_accept_waves', 'had_goal_to_raise', 'ind_raised_less_goal',\n",
      "       'met_goal'],\n",
      "      dtype='object', length=137)\n"
     ]
    }
   ],
   "source": [
    "print(len(howell_df))\n",
    "print(howell_df.columns)"
   ]
  },
  {
   "cell_type": "code",
   "execution_count": 10,
   "metadata": {},
   "outputs": [
    {
     "name": "stdout",
     "output_type": "stream",
     "text": [
      "100\n",
      "Index(['Name', 'Raised($)', 'Reason', 'Year', 'Type', 'PL', 'WC', 'WD',\n",
      "       'RScore', 'NoC', 'Team', 'C.Info', 'KYC', 'Twitter', 'Video', 'Miles',\n",
      "       'SoftCap', 'HardCap', 'Tgram', 'NoT'],\n",
      "      dtype='object')\n"
     ]
    }
   ],
   "source": [
    "print(len(sapkota_df))\n",
    "print(sapkota_df.columns)"
   ]
  },
  {
   "cell_type": "code",
   "execution_count": 11,
   "metadata": {},
   "outputs": [
    {
     "name": "stdout",
     "output_type": "stream",
     "text": [
      "1520\n",
      "Index(['token_name', 'github_repositories_0719', 'github_indicator_0719',\n",
      "       'whitepaper', 'start_date_final', 'symbol', 'first_date_trading',\n",
      "       'website', 'linkedin_name', 'linkedin_url',\n",
      "       ...\n",
      "       'Team', 'C.Info', 'KYC', 'Twitter', 'Video', 'Miles', 'SoftCap',\n",
      "       'HardCap', 'Tgram', 'NoT'],\n",
      "      dtype='object', length=157)\n"
     ]
    }
   ],
   "source": [
    "print(len(matches_df))\n",
    "print(matches_df.columns)"
   ]
  },
  {
   "cell_type": "code",
   "execution_count": 12,
   "metadata": {},
   "outputs": [
    {
     "data": {
      "text/plain": [
       "0       0.0\n",
       "1       0.0\n",
       "2       0.0\n",
       "3       0.0\n",
       "4       0.0\n",
       "       ... \n",
       "1515    0.0\n",
       "1516    0.0\n",
       "1517    0.0\n",
       "1518    0.0\n",
       "1519    0.0\n",
       "Name: ico_failed, Length: 1520, dtype: float64"
      ]
     },
     "execution_count": 12,
     "metadata": {},
     "output_type": "execute_result"
    }
   ],
   "source": [
    "matches_df[matches_df[\"Type\"].isna() == False][\"ico_failed\"]"
   ]
  },
  {
   "cell_type": "code",
   "execution_count": 13,
   "metadata": {},
   "outputs": [],
   "source": [
    "# matches_df.to_csv(os.path.join(\"data\", \"matches.csv\"))"
   ]
  },
  {
   "cell_type": "code",
   "execution_count": 17,
   "metadata": {},
   "outputs": [
    {
     "name": "stdout",
     "output_type": "stream",
     "text": [
      "['token_name', 'github_indicator_0719', 'start_date_final', 'ico_failed', 'utility', 'original_data_flag', 'ads', 'data', 'enterp', 'newblockchain', 'pay', 'token', 'trading', 'asset', 'gaming', 'num_emps_linkedin_wm', 'num_emps2_wm', 'commercialization_new', 'listed_original', 'one_per_token', 'listed', 'issuer_failed_new', 'commercialization', 'log_num_emps2_wm', 'white_paper_final', 'incentive_set_aside', 'vesting', 'budget', 'VC', 'country_usa', 'country_china', 'country_canada', 'country_russia', 'country_singapore', 'country_switzerland', 'country_israel', 'country_uk', 'country_hk', 'country_dispersed', 'presale', 'had_goal_to_raise', 'Type']\n"
     ]
    }
   ],
   "source": [
    "d = {}\n",
    "picked = []\n",
    "for key in matches_df.columns:\n",
    "    val = sum(matches_df[key].isna() == False)\n",
    "    if val >= 1296:\n",
    "        picked.append(key)\n",
    "        # print(key)\n",
    "    d[key] = val\n",
    "\n",
    "# print(len(picked))\n",
    "print(picked)\n",
    "\n",
    "pairs = sorted([(-val, key) for key, val in d.items()])\n",
    "# print(pairs)"
   ]
  },
  {
   "cell_type": "code",
   "execution_count": null,
   "metadata": {},
   "outputs": [],
   "source": []
  }
 ],
 "metadata": {
  "kernelspec": {
   "display_name": "Python 3.8.12 ('base')",
   "language": "python",
   "name": "python3"
  },
  "language_info": {
   "codemirror_mode": {
    "name": "ipython",
    "version": 3
   },
   "file_extension": ".py",
   "mimetype": "text/x-python",
   "name": "python",
   "nbconvert_exporter": "python",
   "pygments_lexer": "ipython3",
   "version": "3.8.12"
  },
  "orig_nbformat": 4,
  "vscode": {
   "interpreter": {
    "hash": "801080007c169a4218c1a51f6e3e763207aa497cb3aa669addbe06946908c9b9"
   }
  }
 },
 "nbformat": 4,
 "nbformat_minor": 2
}
