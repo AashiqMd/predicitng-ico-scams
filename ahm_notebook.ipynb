{
 "cells": [
  {
   "cell_type": "code",
   "execution_count": 1,
   "metadata": {},
   "outputs": [],
   "source": [
    "import pandas as pd\n",
    "import preprocess\n",
    "import os\n",
    "\n",
    "preprocess.convert_without_losing_NAs()\n",
    "howell_df = preprocess.preprocess_howell(log=False)\n",
    "sapkota_df = preprocess.preprocess_sapkota(log=False)\n",
    "matches_df = preprocess.merge(howell_df, sapkota_df, how=\"left\", log=False)"
   ]
  },
  {
   "cell_type": "code",
   "execution_count": 2,
   "metadata": {},
   "outputs": [
    {
     "name": "stdout",
     "output_type": "stream",
     "text": [
      "1520\n",
      "Index(['token_name', 'github_repositories_0719', 'github_indicator_0719',\n",
      "       'whitepaper', 'start_date_final', 'symbol', 'first_date_trading',\n",
      "       'website', 'linkedin_name', 'linkedin_url',\n",
      "       ...\n",
      "       'curr_accept_eur', 'curr_accept_btc', 'curr_accept_eth',\n",
      "       'curr_accept_xrp', 'curr_accept_ltc', 'curr_accept_waves',\n",
      "       'had_goal_to_raise', 'ind_raised_less_goal', 'met_goal', 'data source'],\n",
      "      dtype='object', length=136)\n"
     ]
    }
   ],
   "source": [
    "print(len(howell_df))\n",
    "print(howell_df.columns)"
   ]
  },
  {
   "cell_type": "code",
   "execution_count": 3,
   "metadata": {},
   "outputs": [
    {
     "name": "stdout",
     "output_type": "stream",
     "text": [
      "100\n",
      "Index(['Name', 'Raised($)', 'Reason', 'Year', 'Type', 'PL', 'WC', 'WD',\n",
      "       'RScore', 'NoC', 'Team', 'C.Info', 'KYC', 'Twitter', 'Video', 'Miles',\n",
      "       'SoftCap', 'HardCap', 'Tgram', 'NoT', 'data source'],\n",
      "      dtype='object')\n"
     ]
    }
   ],
   "source": [
    "print(len(sapkota_df))\n",
    "print(sapkota_df.columns)"
   ]
  },
  {
   "cell_type": "code",
   "execution_count": 4,
   "metadata": {},
   "outputs": [
    {
     "name": "stdout",
     "output_type": "stream",
     "text": [
      "1520\n",
      "Index(['token_name', 'github_repositories_0719', 'github_indicator_0719',\n",
      "       'whitepaper', 'start_date_final', 'symbol', 'first_date_trading',\n",
      "       'website', 'linkedin_name', 'linkedin_url',\n",
      "       ...\n",
      "       'C.Info', 'KYC', 'Twitter', 'Video', 'Miles', 'SoftCap', 'HardCap',\n",
      "       'Tgram', 'NoT', 'data source_y'],\n",
      "      dtype='object', length=157)\n"
     ]
    }
   ],
   "source": [
    "print(len(matches_df))\n",
    "print(matches_df.columns)"
   ]
  },
  {
   "cell_type": "code",
   "execution_count": 5,
   "metadata": {},
   "outputs": [
    {
     "data": {
      "text/plain": [
       "0       0.0\n",
       "1       0.0\n",
       "2       0.0\n",
       "3       0.0\n",
       "4       0.0\n",
       "       ... \n",
       "1515    0.0\n",
       "1516    0.0\n",
       "1517    0.0\n",
       "1518    0.0\n",
       "1519    0.0\n",
       "Name: ico_failed, Length: 1520, dtype: float64"
      ]
     },
     "execution_count": 5,
     "metadata": {},
     "output_type": "execute_result"
    }
   ],
   "source": [
    "matches_df[matches_df[\"Type\"].isna() == False][\"ico_failed\"]"
   ]
  },
  {
   "cell_type": "code",
   "execution_count": 6,
   "metadata": {},
   "outputs": [],
   "source": [
    "# matches_df.to_csv(os.path.join(\"data\", \"matches.csv\"))"
   ]
  },
  {
   "cell_type": "code",
   "execution_count": 7,
   "metadata": {},
   "outputs": [
    {
     "name": "stdout",
     "output_type": "stream",
     "text": [
      "['token_name', 'github_indicator_0719', 'start_date_final', 'ico_failed', 'utility', 'original_data_flag', 'ads', 'data', 'enterp', 'newblockchain', 'pay', 'token', 'trading', 'asset', 'gaming', 'num_emps_linkedin_wm', 'num_emps2_wm', 'commercialization_new', 'listed_original', 'one_per_token', 'listed', 'issuer_failed_new', 'commercialization', 'log_num_emps2_wm', 'white_paper_final', 'incentive_set_aside', 'vesting', 'budget', 'VC', 'country_usa', 'country_china', 'country_canada', 'country_russia', 'country_singapore', 'country_switzerland', 'country_israel', 'country_uk', 'country_hk', 'country_dispersed', 'presale', 'had_goal_to_raise', 'data source_x', 'Type']\n",
      "[(-1520, 'Type'), (-1520, 'VC'), (-1520, 'budget'), (-1520, 'commercialization'), (-1520, 'commercialization_new'), (-1520, 'data source_x'), (-1520, 'github_indicator_0719'), (-1520, 'had_goal_to_raise'), (-1520, 'incentive_set_aside'), (-1520, 'issuer_failed_new'), (-1520, 'listed'), (-1520, 'listed_original'), (-1520, 'log_num_emps2_wm'), (-1520, 'num_emps2_wm'), (-1520, 'num_emps_linkedin_wm'), (-1520, 'one_per_token'), (-1520, 'presale'), (-1520, 'token_name'), (-1520, 'utility'), (-1520, 'vesting'), (-1520, 'white_paper_final'), (-1437, 'start_date_final'), (-1296, 'ads'), (-1296, 'asset'), (-1296, 'country_canada'), (-1296, 'country_china'), (-1296, 'country_dispersed'), (-1296, 'country_hk'), (-1296, 'country_israel'), (-1296, 'country_russia'), (-1296, 'country_singapore'), (-1296, 'country_switzerland'), (-1296, 'country_uk'), (-1296, 'country_usa'), (-1296, 'data'), (-1296, 'enterp'), (-1296, 'gaming'), (-1296, 'ico_failed'), (-1296, 'newblockchain'), (-1296, 'original_data_flag'), (-1296, 'pay'), (-1296, 'token'), (-1296, 'trading'), (-1179, 'website'), (-1159, 'symbol'), (-1142, 'sector_s'), (-1128, 'sector_agg'), (-1128, 'sector_agg_n'), (-1055, 'country1'), (-1053, 'founder_name'), (-1043, 'founder_gender'), (-1042, 'founder_title'), (-1041, 'num_emps2'), (-1026, 'whitepaper'), (-1017, 'founder_male'), (-964, 'founder_bckgr_compsciIT'), (-964, 'founder_bckgr_crypto'), (-964, 'founder_bckgr_entrep'), (-964, 'founder_bckgr_finance'), (-956, 'company_name'), (-893, 'num_emps_linkedin'), (-892, 'linkedin_name'), (-891, 'linkedin_url'), (-845, 'new845_data_flag'), (-812, 'github_repositories_0719'), (-742, 'goal_to_raise_units'), (-709, 'sector'), (-673, 'first_date_trading'), (-673, 'trade_length'), (-671, 'eth_blockchain'), (-671, 'name'), (-650, 'num_emps_website'), (-615, 'founder_source'), (-544, 'available_supply'), (-451, 'airdrop'), (-451, 'barred_to_us'), (-451, 'blockchain_bitshares'), (-451, 'blockchain_eth'), (-451, 'blockchain_waves'), (-451, 'capped'), (-451, 'code_github'), (-451, 'curr_accept_btc'), (-451, 'curr_accept_eth'), (-451, 'curr_accept_eur'), (-451, 'curr_accept_ltc'), (-451, 'curr_accept_usd'), (-451, 'curr_accept_waves'), (-451, 'curr_accept_xrp'), (-451, 'future_token_creation'), (-451, 'github_indicator'), (-451, 'month_started_trading'), (-451, 'new_blockchain'), (-451, 'no_trading_data'), (-451, 'no_website'), (-451, 'pricing_auction'), (-451, 'pricing_dynamic'), (-451, 'pricing_sensitive'), (-451, 'quarter_started_trading'), (-451, 'telegram_indicator'), (-451, 'token_limit'), (-451, 'twitter_indicator'), (-451, 'week_started_trading'), (-451, 'white_paper'), (-436, 'blockchain'), (-434, 'circ_supply_all'), (-433, 'sector_agg_n_old'), (-433, 'sector_agg_old'), (-433, 'sector_n'), (-433, 'sector_s_old'), (-431, 'twitter_followers'), (-419, 'ind_raised_less_goal'), (-419, 'met_goal'), (-403, 'notes'), (-390, 'website_new_research'), (-387, 'days_to_list'), (-367, 'duration'), (-359, 'currencies_accepted'), (-359, 'num_currencies_accepted'), (-357, 'telegram_members'), (-345, 'cap_amt_crypto'), (-345, 'cap_amt_crypto_units'), (-301, 'github_repositories'), (-288, 'github_mainrep_commits'), (-101, 'num_emps_website_incomplete'), (-89, 'dup'), (-83, 'C.Info'), (-83, 'HardCap'), (-83, 'KYC'), (-83, 'Miles'), (-83, 'Name'), (-83, 'NoC'), (-83, 'NoT'), (-83, 'PL'), (-83, 'RScore'), (-83, 'Raised($)'), (-83, 'Reason'), (-83, 'SoftCap'), (-83, 'Team'), (-83, 'Tgram'), (-83, 'Twitter'), (-83, 'Video'), (-83, 'WC'), (-83, 'WD'), (-83, 'Year'), (-83, 'data source_y'), (-60, 'country2'), (-50, 'max_supply'), (-30, 'founder_name2'), (-28, 'founder2_gender'), (-22, 'founder2_title'), (-18, 'founder2_bckgr_compsciIT'), (-18, 'founder2_bckgr_finance'), (-17, 'founder2_bckgr_crypto'), (-17, 'founder2_bckgr_entrep'), (-16, 'country3'), (-6, 'country4'), (0, 'cancelledornoicoordoubleis')]\n"
     ]
    }
   ],
   "source": [
    "d = {}\n",
    "picked = []\n",
    "for key in matches_df.columns:\n",
    "    val = sum(matches_df[key].isna() == False)\n",
    "    if val >= 1296:\n",
    "        picked.append(key)\n",
    "        # print(key)\n",
    "    d[key] = val\n",
    "\n",
    "# print(len(picked))\n",
    "print(picked)\n",
    "\n",
    "pairs = sorted([(-val, key) for key, val in d.items()])\n",
    "print(pairs)"
   ]
  },
  {
   "cell_type": "code",
   "execution_count": 10,
   "metadata": {},
   "outputs": [],
   "source": [
    "select = [\n",
    "        'github_repositories_0719',\n",
    "        'github_indicator_0719',\n",
    "        'first_date_trading',\n",
    "        'sector',\n",
    "        'utility',\n",
    "        'eth_blockchain',\n",
    "        'sector_s',\n",
    "        'original_data_flag',\n",
    "        'available_supply',\n",
    "        'sector_agg',\n",
    "        'gaming',\n",
    "        'num_emps2',\n",
    "        'num_emps_linkedin_wm',\n",
    "        'commercialization_new',\n",
    "        'num_emps_website',\n",
    "        'issuer_failed_new',\n",
    "        'log_num_emps2_wm',\n",
    "        'white_paper_final',\n",
    "        'incentive_set_aside',\n",
    "        'vesting',\n",
    "        'budget',\n",
    "        'founder_bckgr_crypto',\n",
    "        'founder_bckgr_finance',\n",
    "        'founder_bckgr_compsciIT',\n",
    "        'founder_bckgr_entrep',\n",
    "        'sector_agg_n',\n",
    "        'presale',\n",
    "        'had_goal_to_raise',\n",
    "    ]\n",
    "\n",
    "# matches_df[select]"
   ]
  }
 ],
 "metadata": {
  "kernelspec": {
   "display_name": "Python 3.8.12 ('base')",
   "language": "python",
   "name": "python3"
  },
  "language_info": {
   "codemirror_mode": {
    "name": "ipython",
    "version": 3
   },
   "file_extension": ".py",
   "mimetype": "text/x-python",
   "name": "python",
   "nbconvert_exporter": "python",
   "pygments_lexer": "ipython3",
   "version": "3.8.12"
  },
  "orig_nbformat": 4,
  "vscode": {
   "interpreter": {
    "hash": "801080007c169a4218c1a51f6e3e763207aa497cb3aa669addbe06946908c9b9"
   }
  }
 },
 "nbformat": 4,
 "nbformat_minor": 2
}
