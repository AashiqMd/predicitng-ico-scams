{
 "cells": [
  {
   "cell_type": "code",
   "execution_count": 4,
   "metadata": {},
   "outputs": [
    {
     "name": "stderr",
     "output_type": "stream",
     "text": [
      "100%|██████████| 1325362/1325362 [01:06<00:00, 20002.82it/s]\n"
     ]
    },
    {
     "name": "stdout",
     "output_type": "stream",
     "text": [
      "found 963482 posts (though some will be empty or deleted)\n",
      "found 361880 JSONDecodeErrors (ignoring these examples)\n"
     ]
    }
   ],
   "source": [
    "import json\n",
    "from pathlib import Path\n",
    "from tqdm import tqdm\n",
    "\n",
    "from download import download\n",
    "\n",
    "\n",
    "root = Path.cwd() / \"data\"\n",
    "crypto_sub = root / \"cryptocurrency_submission_1655932272.txt\"\n",
    "\n",
    "if not crypto_sub.exists():\n",
    "    download(\"1E_uNsdkYZbwnEEV15vzZuwbu__kbsttJ\", checksum=False)\n",
    "\n",
    "USE_MSG_SUBSTRINGS = True\n",
    "parsed = 0\n",
    "errors = 0\n",
    "with open(crypto_sub, encoding=\"utf-8\") as read:\n",
    "    for line in tqdm(read.readlines()):  # read all lines into memory so we can use tqdm <3\n",
    "        fixed = line.replace('\\'', '\"').replace(' False, \"', ' \"False\", \"').replace(' True, \"', ' \"True\", \"').replace(' None, \"', ' \"None\", \"')\n",
    "        try:\n",
    "            post = json.loads(fixed)\n",
    "        except json.JSONDecodeError:\n",
    "            errors += 1\n",
    "            continue\n",
    "        if \"selftext\" in post:\n",
    "            post_text = post[\"selftext\"]\n",
    "        parsed += 1\n",
    "\n",
    "print(f\"found {parsed} posts (though some will be empty or deleted)\")\n",
    "print(f\"found {errors} JSONDecodeErrors (ignoring these examples)\")"
   ]
  }
 ],
 "metadata": {
  "kernelspec": {
   "display_name": "Python 3.9.13 64-bit",
   "language": "python",
   "name": "python3"
  },
  "language_info": {
   "codemirror_mode": {
    "name": "ipython",
    "version": 3
   },
   "file_extension": ".py",
   "mimetype": "text/x-python",
   "name": "python",
   "nbconvert_exporter": "python",
   "pygments_lexer": "ipython3",
   "version": "3.9.13"
  },
  "orig_nbformat": 4,
  "vscode": {
   "interpreter": {
    "hash": "aee8b7b246df8f9039afb4144a1f6fd8d2ca17a180786b69acc140d282b71a49"
   }
  }
 },
 "nbformat": 4,
 "nbformat_minor": 2
}
